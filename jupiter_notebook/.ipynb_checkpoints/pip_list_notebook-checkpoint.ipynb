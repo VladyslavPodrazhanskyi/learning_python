{
 "cells": [
  {
   "cell_type": "code",
   "execution_count": null,
   "id": "ec3fd2e5",
   "metadata": {},
   "outputs": [],
   "source": [
    "import subprocess\n",
    "\n",
    "# Execute the pip list command\n",
    "result = subprocess.run(['pip', 'list'], capture_output=True, text=True)\n",
    "\n",
    "# Check if the command executed successfully\n",
    "if result.returncode == 0:\n",
    "    # Print the output of the pip list command\n",
    "    print(result.stdout)\n",
    "else:\n",
    "    # Print the error message if the command failed\n",
    "    print(result.stderr)\n"
   ]
  },
  {
   "cell_type": "code",
   "execution_count": null,
   "id": "b3b8bad9",
   "metadata": {
    "scrolled": true
   },
   "outputs": [],
   "source": [
    "import subprocess\n",
    "\n",
    "# Execute the pip list command\n",
    "result = subprocess.run(['python',  '-V'], capture_output=True, text=True)\n",
    "\n",
    "# Check if the command executed successfully\n",
    "if result.returncode == 0:\n",
    "    # Print the output of the pip list command\n",
    "    print(result.stdout)\n",
    "else:\n",
    "    # Print the error message if the command failed\n",
    "    print(result.stderr)"
   ]
  },
  {
   "cell_type": "code",
   "execution_count": null,
   "id": "f1f2baad",
   "metadata": {},
   "outputs": [],
   "source": [
    "print(\"hello from notebook\")"
   ]
  },
  {
   "cell_type": "code",
   "execution_count": null,
   "id": "c78fa279",
   "metadata": {},
   "outputs": [],
   "source": []
  }
 ],
 "metadata": {
  "kernelspec": {
   "display_name": "Python 3 (ipykernel)",
   "language": "python",
   "name": "python3"
  },
  "language_info": {
   "codemirror_mode": {
    "name": "ipython",
    "version": 3
   },
   "file_extension": ".py",
   "mimetype": "text/x-python",
   "name": "python",
   "nbconvert_exporter": "python",
   "pygments_lexer": "ipython3",
   "version": "3.9.9"
  }
 },
 "nbformat": 4,
 "nbformat_minor": 5
}
