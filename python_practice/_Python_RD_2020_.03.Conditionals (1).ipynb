{
 "cells": [
  {
   "cell_type": "heading",
   "id": "b12a24ab",
   "level": 1,
   "metadata": {},
   "source": [
    "# Truth Value Testing "
   ]
  },
  {
   "cell_type": "code",
   "execution_count": 1,
   "id": "e5d5dc94",
   "metadata": {},
   "outputs": [
    {
     "name": "stdout",
     "output_type": "stream",
     "text": [
      "False\n",
      "False\n",
      "False\n",
      "False\n",
      "False\n"
     ]
    }
   ],
   "source": [
    "from decimal import Decimal\n",
    "from fractions import Fraction\n",
    "print(bool(0))\n",
    "print(bool(0.0))\n",
    "print(bool(0j))\n",
    "print(bool(Decimal(0)))\n",
    "print(bool(Fraction(0, 1)))"
   ]
  },
  {
   "cell_type": "code",
   "execution_count": 2,
   "id": "41cfdd44",
   "metadata": {},
   "outputs": [
    {
     "name": "stdout",
     "output_type": "stream",
     "text": [
      "False\n",
      "False\n",
      "False\n",
      "False\n",
      "False\n",
      "False\n"
     ]
    }
   ],
   "source": [
    "print(bool(''))\n",
    "print(bool(()))\n",
    "print(bool([]))\n",
    "print(bool({}))\n",
    "print(bool(set()))\n",
    "print(bool(range(0)))"
   ]
  },
  {
   "cell_type": "code",
   "execution_count": 4,
   "id": "635f0082",
   "metadata": {},
   "outputs": [
    {
     "name": "stdout",
     "output_type": "stream",
     "text": [
      "True\n"
     ]
    }
   ],
   "source": [
    "s = 'eder'\n",
    "if s:\n",
    "    print(True)"
   ]
  },
  {
   "cell_type": "markdown",
   "id": "2783acf2",
   "metadata": {},
   "source": [
    "# Value comparisons. Some Features"
   ]
  },
  {
   "cell_type": "code",
   "execution_count": 5,
   "id": "8454ac44",
   "metadata": {},
   "outputs": [],
   "source": [
    "x = float('NaN')"
   ]
  },
  {
   "cell_type": "code",
   "execution_count": 6,
   "id": "c32802ec",
   "metadata": {},
   "outputs": [
    {
     "data": {
      "text/plain": [
       "(False, True)"
      ]
     },
     "execution_count": 6,
     "metadata": {},
     "output_type": "execute_result"
    }
   ],
   "source": [
    "x == x, x is x"
   ]
  },
  {
   "cell_type": "code",
   "execution_count": 8,
   "id": "8dedc8bb",
   "metadata": {},
   "outputs": [],
   "source": [
    "y = Decimal('NaN')"
   ]
  },
  {
   "cell_type": "code",
   "execution_count": 11,
   "id": "f18d5600",
   "metadata": {},
   "outputs": [
    {
     "data": {
      "text/plain": [
       "(False, True, True)"
      ]
     },
     "execution_count": 11,
     "metadata": {},
     "output_type": "execute_result"
    }
   ],
   "source": [
    "y == y, y is y"
   ]
  },
  {
   "cell_type": "code",
   "execution_count": 12,
   "id": "dcc837da",
   "metadata": {},
   "outputs": [
    {
     "data": {
      "text/plain": [
       "(False, False)"
      ]
     },
     "execution_count": 12,
     "metadata": {},
     "output_type": "execute_result"
    }
   ],
   "source": [
    "10 < x, 10 > x"
   ]
  },
  {
   "cell_type": "code",
   "execution_count": 13,
   "id": "b63c7775",
   "metadata": {},
   "outputs": [
    {
     "data": {
      "text/plain": [
       "True"
      ]
     },
     "execution_count": 13,
     "metadata": {},
     "output_type": "execute_result"
    }
   ],
   "source": [
    "'a' > 'A'"
   ]
  },
  {
   "cell_type": "code",
   "execution_count": 14,
   "id": "dfafca36",
   "metadata": {},
   "outputs": [
    {
     "data": {
      "text/plain": [
       "True"
      ]
     },
     "execution_count": 14,
     "metadata": {},
     "output_type": "execute_result"
    }
   ],
   "source": [
    "'a' > 'XXXXX'"
   ]
  },
  {
   "cell_type": "code",
   "execution_count": 15,
   "id": "628019bc",
   "metadata": {},
   "outputs": [
    {
     "data": {
      "text/plain": [
       "False"
      ]
     },
     "execution_count": 15,
     "metadata": {},
     "output_type": "execute_result"
    }
   ],
   "source": [
    "'a' > 'aA'"
   ]
  },
  {
   "cell_type": "code",
   "execution_count": 18,
   "id": "66bf737f",
   "metadata": {},
   "outputs": [
    {
     "ename": "TypeError",
     "evalue": "'>' not supported between instances of 'list' and 'int'",
     "output_type": "error",
     "traceback": [
      "\u001b[1;31m---------------------------------------------------------------------------\u001b[0m",
      "\u001b[1;31mTypeError\u001b[0m                                 Traceback (most recent call last)",
      "\u001b[1;32m<ipython-input-18-6e948c62c453>\u001b[0m in \u001b[0;36m<module>\u001b[1;34m\u001b[0m\n\u001b[1;32m----> 1\u001b[1;33m \u001b[0mmax\u001b[0m\u001b[1;33m(\u001b[0m\u001b[1;33m[\u001b[0m\u001b[1;36m1\u001b[0m\u001b[1;33m,\u001b[0m \u001b[1;33m[\u001b[0m\u001b[1;36m2\u001b[0m\u001b[1;33m,\u001b[0m \u001b[1;33m-\u001b[0m\u001b[1;36m1\u001b[0m\u001b[1;33m]\u001b[0m\u001b[1;33m,\u001b[0m \u001b[1;33m-\u001b[0m\u001b[1;36m2\u001b[0m\u001b[1;33m]\u001b[0m\u001b[1;33m)\u001b[0m\u001b[1;33m\u001b[0m\u001b[1;33m\u001b[0m\u001b[0m\n\u001b[0m",
      "\u001b[1;31mTypeError\u001b[0m: '>' not supported between instances of 'list' and 'int'"
     ]
    }
   ],
   "source": [
    "max([1, [2, -1], -2])"
   ]
  },
  {
   "cell_type": "code",
   "execution_count": 17,
   "id": "041e3355",
   "metadata": {},
   "outputs": [
    {
     "ename": "TypeError",
     "evalue": "'>' not supported between instances of 'int' and 'str'",
     "output_type": "error",
     "traceback": [
      "\u001b[1;31m---------------------------------------------------------------------------\u001b[0m",
      "\u001b[1;31mTypeError\u001b[0m                                 Traceback (most recent call last)",
      "\u001b[1;32m<ipython-input-17-ee316de3f593>\u001b[0m in \u001b[0;36m<module>\u001b[1;34m\u001b[0m\n\u001b[1;32m----> 1\u001b[1;33m \u001b[0mmax\u001b[0m\u001b[1;33m(\u001b[0m\u001b[1;33m[\u001b[0m\u001b[1;34m'1'\u001b[0m\u001b[1;33m,\u001b[0m \u001b[1;36m2\u001b[0m\u001b[1;33m,\u001b[0m \u001b[1;36m2.3\u001b[0m\u001b[1;33m,\u001b[0m \u001b[1;34m'2'\u001b[0m\u001b[1;33m]\u001b[0m\u001b[1;33m)\u001b[0m\u001b[1;33m\u001b[0m\u001b[1;33m\u001b[0m\u001b[0m\n\u001b[0m",
      "\u001b[1;31mTypeError\u001b[0m: '>' not supported between instances of 'int' and 'str'"
     ]
    }
   ],
   "source": [
    "max(['1', 2, 2.3, '2'])"
   ]
  },
  {
   "cell_type": "markdown",
   "id": "d1f24aba",
   "metadata": {},
   "source": [
    "# if … elif … else …"
   ]
  },
  {
   "cell_type": "markdown",
   "id": "a29d2182",
   "metadata": {},
   "source": [
    "### Example"
   ]
  },
  {
   "cell_type": "code",
   "execution_count": 20,
   "id": "79f70354",
   "metadata": {},
   "outputs": [
    {
     "name": "stdout",
     "output_type": "stream",
     "text": [
      "1 2\n"
     ]
    }
   ],
   "source": [
    "from random import randint\n",
    "a, b = randint(0, 2), randint(0, 2)\n",
    "print(a, b)"
   ]
  },
  {
   "cell_type": "code",
   "execution_count": 21,
   "id": "30659ca6",
   "metadata": {},
   "outputs": [
    {
     "name": "stdout",
     "output_type": "stream",
     "text": [
      "a = 1 is less than b = 2\n"
     ]
    }
   ],
   "source": [
    "if a == b:\n",
    "    print(f'a = {a} and b = {b} are equal')\n",
    "elif a > b:\n",
    "    print(f'a = {a} is greater than b = {b}')\n",
    "else:\n",
    "    print(f'a = {a} is less than b = {b}')"
   ]
  },
  {
   "cell_type": "markdown",
   "id": "b64ed3fb",
   "metadata": {},
   "source": [
    "### Example"
   ]
  },
  {
   "cell_type": "code",
   "execution_count": 24,
   "id": "f32a78e0",
   "metadata": {},
   "outputs": [
    {
     "name": "stdin",
     "output_type": "stream",
     "text": [
      "Please enter an integer:  -5\n"
     ]
    },
    {
     "name": "stdout",
     "output_type": "stream",
     "text": [
      "Negative changed to zero\n"
     ]
    }
   ],
   "source": [
    "x = int(input('Please enter an integer: '))\n",
    "if x < 0:\n",
    "    x = 0\n",
    "    print('Negative changed to zero')\n",
    "elif x == 0:\n",
    "    print('Zero')\n",
    "elif x == 1:\n",
    "    print('Single')\n",
    "else:\n",
    "    print('More')"
   ]
  },
  {
   "cell_type": "markdown",
   "id": "387a25c7",
   "metadata": {},
   "source": [
    "# Nested if … elif … else …"
   ]
  },
  {
   "cell_type": "markdown",
   "id": "89dbd504",
   "metadata": {},
   "source": [
    "### Example. Not recommended"
   ]
  },
  {
   "cell_type": "code",
   "execution_count": null,
   "id": "3429fb9e",
   "metadata": {},
   "outputs": [],
   "source": [
    "score = 69\n",
    "if score >= 90:\n",
    "    letter = 'A'\n",
    "else:\n",
    "    if score >= 82:\n",
    "        letter = 'B'\n",
    "    else:\n",
    "        if score >= 75:\n",
    "            letter = 'C'\n",
    "        else:\n",
    "            if score >= 64:\n",
    "                letter = 'D'\n",
    "            else:\n",
    "                if score >= 60:\n",
    "                    letter = 'E'\n",
    "                else:\n",
    "                    letter = 'F'\n",
    "print(letter)"
   ]
  },
  {
   "cell_type": "markdown",
   "id": "b508abf8",
   "metadata": {},
   "source": [
    "### Example. Recommended"
   ]
  },
  {
   "cell_type": "code",
   "execution_count": null,
   "id": "63f4b333",
   "metadata": {},
   "outputs": [],
   "source": [
    "score = 69\n",
    "\n",
    "if score >= 90:\n",
    "    letter = 'A'\n",
    "elif score >= 82:\n",
    "    letter = 'B'\n",
    "elif score >= 75:\n",
    "    letter = 'C'\n",
    "elif score >= 64:\n",
    "    letter = 'D'\n",
    "elif score >= 60:\n",
    "    letter = 'E'\n",
    "else:\n",
    "    letter = 'F'\n",
    "print(letter)"
   ]
  },
  {
   "cell_type": "markdown",
   "id": "904569a7",
   "metadata": {},
   "source": [
    "### Example. Not recommended"
   ]
  },
  {
   "cell_type": "code",
   "execution_count": 26,
   "id": "1d45164a",
   "metadata": {},
   "outputs": [
    {
     "name": "stdout",
     "output_type": "stream",
     "text": [
      "False\n"
     ]
    }
   ],
   "source": [
    "year = 2019\n",
    "\n",
    "if year % 400 == 0:\n",
    "    print(True)\n",
    "elif year % 100 == 0:\n",
    "    print(False)\n",
    "elif year % 4 == 0:\n",
    "    print(True)\n",
    "else:\n",
    "    print(False)"
   ]
  },
  {
   "cell_type": "markdown",
   "id": "69e04652",
   "metadata": {},
   "source": [
    "### Example. Recommended"
   ]
  },
  {
   "cell_type": "code",
   "execution_count": 27,
   "id": "6d047754",
   "metadata": {},
   "outputs": [
    {
     "name": "stdout",
     "output_type": "stream",
     "text": [
      "False\n"
     ]
    }
   ],
   "source": [
    "year = 2019\n",
    "\n",
    "if year % 4 == 0 and year % 100 != 0 or year % 400 == 0:\n",
    "    print(True)\n",
    "else:\n",
    "    print(False)"
   ]
  },
  {
   "cell_type": "markdown",
   "id": "6bc31b85",
   "metadata": {},
   "source": [
    "# Conditional operator"
   ]
  },
  {
   "cell_type": "code",
   "execution_count": 28,
   "id": "a5730fb4",
   "metadata": {},
   "outputs": [
    {
     "name": "stdout",
     "output_type": "stream",
     "text": [
      "81 28\n"
     ]
    }
   ],
   "source": [
    "a, b = randint(0, 100), randint(0, 1000)\n",
    "print(a, b)"
   ]
  },
  {
   "cell_type": "code",
   "execution_count": 29,
   "id": "2dcc52ff",
   "metadata": {},
   "outputs": [
    {
     "data": {
      "text/plain": [
       "81"
      ]
     },
     "execution_count": 29,
     "metadata": {},
     "output_type": "execute_result"
    }
   ],
   "source": [
    "a if a > b else b"
   ]
  },
  {
   "cell_type": "code",
   "execution_count": 34,
   "id": "6c74d0a9",
   "metadata": {},
   "outputs": [
    {
     "name": "stdout",
     "output_type": "stream",
     "text": [
      "2\n"
     ]
    }
   ],
   "source": [
    "x = 1 and 2\n",
    "print(x)"
   ]
  },
  {
   "cell_type": "code",
   "execution_count": 35,
   "id": "c049021e",
   "metadata": {},
   "outputs": [
    {
     "name": "stdout",
     "output_type": "stream",
     "text": [
      "[]\n"
     ]
    }
   ],
   "source": [
    "x = [] and 'Python'\n",
    "print(x)"
   ]
  },
  {
   "cell_type": "code",
   "execution_count": 36,
   "id": "f21948c4",
   "metadata": {},
   "outputs": [
    {
     "name": "stdout",
     "output_type": "stream",
     "text": [
      "1\n"
     ]
    }
   ],
   "source": [
    "x = 1 or 2\n",
    "print(x)"
   ]
  },
  {
   "cell_type": "code",
   "execution_count": 37,
   "id": "7fd20953",
   "metadata": {},
   "outputs": [
    {
     "name": "stdout",
     "output_type": "stream",
     "text": [
      "Python\n"
     ]
    }
   ],
   "source": [
    "x = [] or 'Python'\n",
    "print(x)"
   ]
  },
  {
   "cell_type": "markdown",
   "id": "bf25132b",
   "metadata": {},
   "source": [
    "# Alternative ways to implement ternary operator"
   ]
  },
  {
   "cell_type": "markdown",
   "id": "86fd1b6e",
   "metadata": {},
   "source": [
    "### Using Python Tuples"
   ]
  },
  {
   "cell_type": "code",
   "execution_count": 30,
   "id": "76136a07",
   "metadata": {},
   "outputs": [
    {
     "name": "stdout",
     "output_type": "stream",
     "text": [
      "81 28\n",
      "28\n",
      "81\n"
     ]
    }
   ],
   "source": [
    "print(a, b)\n",
    "print((a, b)[a > b])\n",
    "print((b, a)[a > b])"
   ]
  },
  {
   "cell_type": "markdown",
   "id": "00173574",
   "metadata": {},
   "source": [
    "### Using Python Dictionaries"
   ]
  },
  {
   "cell_type": "code",
   "execution_count": 32,
   "id": "6d5a371c",
   "metadata": {},
   "outputs": [
    {
     "name": "stdout",
     "output_type": "stream",
     "text": [
      "81 28\n",
      "81\n",
      "28\n"
     ]
    }
   ],
   "source": [
    "print(a, b)\n",
    "print({False: b, True: a}[a > b])\n",
    "print({False: b, True: a}[a < b])\n"
   ]
  },
  {
   "cell_type": "markdown",
   "id": "90d2c927",
   "metadata": {},
   "source": [
    "### Using Logical operators"
   ]
  },
  {
   "cell_type": "code",
   "execution_count": 33,
   "id": "965a428a",
   "metadata": {},
   "outputs": [
    {
     "name": "stdout",
     "output_type": "stream",
     "text": [
      "81 28\n",
      "81\n",
      "28\n"
     ]
    }
   ],
   "source": [
    "print(a, b)\n",
    "print(a > b and a or b)\n",
    "print(a < b and a or b)"
   ]
  },
  {
   "cell_type": "markdown",
   "id": "ea9c047a",
   "metadata": {},
   "source": [
    "# Logical Expressions. Example"
   ]
  },
  {
   "cell_type": "markdown",
   "id": "a025f06c",
   "metadata": {},
   "source": [
    "### Using Flow Control Operators"
   ]
  },
  {
   "cell_type": "code",
   "execution_count": null,
   "id": "febf305d",
   "metadata": {},
   "outputs": [],
   "source": [
    "x, y = float(input('x = ')), float(input('y = '))\n",
    "if y >= abs(x) and y <= 1.0:\n",
    "    print('True')\n",
    "else:\n",
    "    print('False')"
   ]
  },
  {
   "cell_type": "markdown",
   "id": "c9fedc73",
   "metadata": {},
   "source": [
    "### Using Logical Operators"
   ]
  },
  {
   "cell_type": "code",
   "execution_count": null,
   "id": "1059bf46",
   "metadata": {},
   "outputs": [],
   "source": [
    "x, y = float(input('x = ')), float(input('y = '))\n",
    "print(y >= abs(x) and y <= 1.0)"
   ]
  },
  {
   "cell_type": "code",
   "execution_count": null,
   "id": "5875a183",
   "metadata": {},
   "outputs": [],
   "source": []
  }
 ],
 "metadata": {
  "kernelspec": {
   "display_name": "Python 3",
   "language": "python",
   "name": "python3"
  },
  "language_info": {
   "codemirror_mode": {
    "name": "ipython",
    "version": 3
   },
   "file_extension": ".py",
   "mimetype": "text/x-python",
   "name": "python",
   "nbconvert_exporter": "python",
   "pygments_lexer": "ipython3",
   "version": "3.8.2"
  }
 },
 "nbformat": 4,
 "nbformat_minor": 5
}
